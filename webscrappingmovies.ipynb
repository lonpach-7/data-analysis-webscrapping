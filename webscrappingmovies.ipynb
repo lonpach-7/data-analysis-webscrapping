{
 "cells": [
  {
   "cell_type": "code",
   "execution_count": 16,
   "id": "8e49efa4-e36e-4262-87a2-5a9f167222ce",
   "metadata": {},
   "outputs": [],
   "source": [
    "from bs4 import BeautifulSoup\n",
    "import requests\n",
    "import re\n",
    "import pandas as pd\n"
   ]
  },
  {
   "cell_type": "code",
   "execution_count": 17,
   "id": "a369ebe5-caac-4e40-8dc5-193f027a4fb8",
   "metadata": {},
   "outputs": [],
   "source": [
    "# Downloading imdb top 250 movie's data\n",
    "url = 'http://www.imdb.com/chart/top'\n",
    "response = requests.get(url)\n",
    "soup = BeautifulSoup(response.text, \"html.parser\")\n"
   ]
  },
  {
   "cell_type": "code",
   "execution_count": 18,
   "id": "3be87575-6ab1-4627-a7fc-9909f3a09650",
   "metadata": {},
   "outputs": [],
   "source": [
    "movies = soup.select('td.titleColumn')\n",
    "crew = [a.attrs.get('title') for a in soup.select('td.titleColumn a')]\n",
    "ratings = [b.attrs.get('data-value')\n",
    "\t\tfor b in soup.select('td.posterColumn span[name=ir]')]\n"
   ]
  },
  {
   "cell_type": "code",
   "execution_count": 19,
   "id": "d93d5130-7866-4fdc-8bbe-66d345d95460",
   "metadata": {},
   "outputs": [],
   "source": [
    "import re\n",
    "\n",
    "# create an empty list for storing movie information\n",
    "movie_list = []\n",
    "\n",
    "# Iterating over movies to extract each movie's details\n",
    "for index in range(0, len(movies)):\n",
    "    # Separating movie into: 'place', 'title', 'year'\n",
    "    movie_string = movies[index].get_text()\n",
    "    movie = (' '.join(movie_string.split()).replace('.', ''))\n",
    "    movie_title = movie[len(str(index))+1:-7]\n",
    "    year = re.search('\\\\((.*?)\\\\)', movie_string).group(1)\n",
    "    place = movie[:len(str(index))-(len(movie))]\n",
    "    data = {\n",
    "        \"place\": place,\n",
    "        \"movie_title\": movie_title,\n",
    "        \"rating\": ratings[index],\n",
    "        \"year\": year,\n",
    "        \"star_cast\": crew[index]\n",
    "    }\n",
    "    movie_list.append(data)\n"
   ]
  },
  {
   "cell_type": "code",
   "execution_count": 20,
   "id": "02881a70-f2a1-4ddb-8401-289ec84af59b",
   "metadata": {},
   "outputs": [],
   "source": [
    "for movie in list:\n",
    "\tprint(movie['place'], '-', movie['movie_title'], '('+movie['year'] +\n",
    "\t\t') -', 'Starring:', movie['star_cast'], movie['rating'])\n"
   ]
  },
  {
   "cell_type": "code",
   "execution_count": 30,
   "id": "10b3b0e9-b089-4244-af3b-91b22f5db3e0",
   "metadata": {},
   "outputs": [],
   "source": [
    "#saving the list as dataframe\n",
    "#then converting into .csv file\n",
    "df = pd.DataFrame(list)\n",
    "df.to_csv('imdb_top_250_movies.csv',index=False)\n"
   ]
  },
  {
   "cell_type": "code",
   "execution_count": null,
   "id": "35cad6da-a59f-4a3b-a0a4-6b42bcf01eb8",
   "metadata": {},
   "outputs": [],
   "source": []
  }
 ],
 "metadata": {
  "kernelspec": {
   "display_name": "Python 3 (ipykernel)",
   "language": "python",
   "name": "python3"
  },
  "language_info": {
   "codemirror_mode": {
    "name": "ipython",
    "version": 3
   },
   "file_extension": ".py",
   "mimetype": "text/x-python",
   "name": "python",
   "nbconvert_exporter": "python",
   "pygments_lexer": "ipython3",
   "version": "3.12.4"
  }
 },
 "nbformat": 4,
 "nbformat_minor": 5
}
